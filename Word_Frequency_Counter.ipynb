{
  "nbformat": 4,
  "nbformat_minor": 0,
  "metadata": {
    "colab": {
      "provenance": [],
      "authorship_tag": "ABX9TyMAQUV93IQRwteR6xTvzIs+",
      "include_colab_link": true
    },
    "kernelspec": {
      "name": "python3",
      "display_name": "Python 3"
    },
    "language_info": {
      "name": "python"
    }
  },
  "cells": [
    {
      "cell_type": "markdown",
      "metadata": {
        "id": "view-in-github",
        "colab_type": "text"
      },
      "source": [
        "<a href=\"https://colab.research.google.com/github/thekarandeveloper/word-frequency-counter/blob/main/Word_Frequency_Counter.ipynb\" target=\"_parent\"><img src=\"https://colab.research.google.com/assets/colab-badge.svg\" alt=\"Open In Colab\"/></a>"
      ]
    },
    {
      "cell_type": "code",
      "execution_count": 1,
      "metadata": {
        "id": "ynTUAA0yZdyT"
      },
      "outputs": [],
      "source": [
        "import string\n",
        "import matplotlib.pyplot as plt\n"
      ]
    },
    {
      "cell_type": "code",
      "source": [
        "\n",
        "def word_frequency_counter(text):\n",
        "    # Remove punctuation and convert to lowercase\n",
        "    translator = str.maketrans(\"\", \"\", string.punctuation)\n",
        "    text = text.translate(translator).lower()\n",
        "\n",
        "    # Tokenize the text into words\n",
        "    words = text.split()\n",
        "\n",
        "    # Initialize an empty dictionary to store word frequencies\n",
        "    word_counts = {}\n",
        "\n",
        "    # Count the frequency of each word\n",
        "    for word in words:\n",
        "        if word in word_counts:\n",
        "            word_counts[word] += 1\n",
        "        else:\n",
        "            word_counts[word] = 1\n",
        "\n",
        "    return word_counts\n"
      ],
      "metadata": {
        "id": "c3n3YXjLZgFL"
      },
      "execution_count": 2,
      "outputs": []
    },
    {
      "cell_type": "code",
      "source": [
        "\n",
        "# Example usage\n",
        "sample_text = \"This is a sample text. This text will be used to demonstrate the word frequency counter. but there is chance that word can be used multiple times in word frequency counter\"\n",
        "\n",
        "result = word_frequency_counter(sample_text)\n"
      ],
      "metadata": {
        "id": "ZLmbrwIZZh4D"
      },
      "execution_count": 6,
      "outputs": []
    },
    {
      "cell_type": "code",
      "source": [
        "\n",
        "# Output the word frequencies\n",
        "for word, count in result.items():\n",
        "    print(f\"{word}: {count}\")\n"
      ],
      "metadata": {
        "colab": {
          "base_uri": "https://localhost:8080/"
        },
        "id": "EcyP83BRZjMI",
        "outputId": "5c5f3052-9504-48a1-b0e4-808c273133c1"
      },
      "execution_count": 7,
      "outputs": [
        {
          "output_type": "stream",
          "name": "stdout",
          "text": [
            "this: 2\n",
            "is: 2\n",
            "a: 1\n",
            "sample: 1\n",
            "text: 2\n",
            "will: 1\n",
            "be: 2\n",
            "used: 2\n",
            "to: 1\n",
            "demonstrate: 1\n",
            "the: 1\n",
            "word: 3\n",
            "frequency: 2\n",
            "counter: 2\n",
            "but: 1\n",
            "there: 1\n",
            "chance: 1\n",
            "that: 1\n",
            "can: 1\n",
            "multiple: 1\n",
            "times: 1\n",
            "in: 1\n"
          ]
        }
      ]
    },
    {
      "cell_type": "code",
      "source": [
        "\n",
        "# Plotting the word frequencies\n",
        "plt.bar(result.keys(), result.values())\n",
        "plt.xlabel('Words')\n",
        "plt.ylabel('Frequency')\n",
        "plt.title('Word Frequency Counter')\n",
        "plt.show()\n"
      ],
      "metadata": {
        "colab": {
          "base_uri": "https://localhost:8080/",
          "height": 472
        },
        "id": "VHxok88RZkDR",
        "outputId": "43d0ef2a-2e7a-49b8-b55f-c27a727b000f"
      },
      "execution_count": 8,
      "outputs": [
        {
          "output_type": "display_data",
          "data": {
            "text/plain": [
              "<Figure size 640x480 with 1 Axes>"
            ],
            "image/png": "[encoded data removed]"
          },
          "metadata": {}
        }
      ]
    }
  ]
}